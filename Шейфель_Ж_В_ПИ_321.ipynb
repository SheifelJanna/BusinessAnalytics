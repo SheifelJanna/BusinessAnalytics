{
  "nbformat": 4,
  "nbformat_minor": 0,
  "metadata": {
    "colab": {
      "name": "Шейфель Ж.В ПИ-321",
      "provenance": [],
      "collapsed_sections": []
    },
    "kernelspec": {
      "name": "python3",
      "display_name": "Python 3"
    },
    "language_info": {
      "name": "python"
    }
  },
  "cells": [
    {
      "cell_type": "code",
      "execution_count": null,
      "metadata": {
        "id": "WZlZ3zA1-ys-"
      },
      "outputs": [],
      "source": [
        ""
      ]
    },
    {
      "cell_type": "markdown",
      "source": [
        ""
      ],
      "metadata": {
        "id": "bqsg5V3eIwwS"
      }
    },
    {
      "cell_type": "markdown",
      "source": [
        "***Греческий алфавит***\n",
        "---\n",
        "\n",
        "> Выполнила Шейфель Жанна Владимировна ст.гр ПИ-321\n",
        "\n",
        "\n",
        "---\n",
        "| Прописные  | Строчные | Название|\n",
        "| :---:  |:-----:|:-----:|\n",
        "|A |$\\alpha$| Альфа | \n",
        "|B| $\\beta$| Бета | \n",
        "|$\\Gamma$| $\\gamma$| Гамма | \n",
        "|$\\Delta$|$\\delta$| Дельта | \n",
        "|E|$\\epsilon$|Эпсилон | \n",
        "|Z|$\\zeta$| Дзета |\n",
        "|H|$\\eta$| Эта | \n",
        "|$\\Theta$|$\\theta$| Тета |\n",
        "|I|$\\iota$| Йота | \n",
        "|K|$\\kappa$| Каппа | \n",
        "|$\\Lambda$|$\\lambda$|Лямбда|\n",
        "|M|$\\mu$|Мю|\n",
        "|N|$\\nu$|Ню|\n",
        "|$\\Xi$|$\\xi$|Хи|\n",
        "|O|$\\omicron$|Омикрон|\n",
        "|$\\Pi$|$\\pi$|Пи|\n",
        "|P|$\\rho$|Ро|\n",
        "|$\\Sigma$|$\\sigma$|Сигма|\n",
        "|T|$\\tau$|Тау|\n",
        "|$\\Upsilon$|$\\upsilon$|Ипсилон|\n",
        "|$\\Phi$|$\\phi$|Фи|\n",
        "|X|$\\chi$|Хи|\n",
        "|$\\Psi$|$\\psi$|Пси|\n",
        "|$\\Omega$|$\\omega$|Омега|\n",
        "\n",
        "Формула в отделбной строке\n",
        "$${\\displaystyle f(x)={\\frac {1}{\\sigma {\\sqrt {2\\pi }}}}e^{-{\\frac {1}{2}}\\left({\\frac {x-\\mu }{\\sigma }}\\right)^{2}}}$$\n",
        "Формула в тексте: ${\\displaystyle f(x)={\\frac {1}{\\sigma {\\sqrt {2\\pi }}}}e^{-{\\frac {1}{2}}\\left({\\frac {x-\\mu }{\\sigma }}\\right)^{2}}}$ \n",
        "#Заголовок первого уровня\n",
        "##Заголовок второго уровня\n",
        "###Заголовок третьего уровня\n",
        "\n",
        "\n",
        "---\n",
        "\n",
        "\n",
        "\n",
        "\n",
        "\n",
        "\n",
        "\n",
        "\n",
        "\n"
      ],
      "metadata": {
        "id": "0q44Rt37-ztM"
      }
    },
    {
      "cell_type": "markdown",
      "source": [
        ""
      ],
      "metadata": {
        "id": "-CmWTAamEk8q"
      }
    },
    {
      "cell_type": "markdown",
      "source": [
        ""
      ],
      "metadata": {
        "id": "_ok-0jC9EhBL"
      }
    }
  ]
}